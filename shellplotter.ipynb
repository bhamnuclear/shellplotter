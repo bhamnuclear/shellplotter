{
 "cells": [
  {
   "cell_type": "code",
   "execution_count": 3,
   "id": "32fe4ad1-b681-493b-ae0c-f7a8674a8f2e",
   "metadata": {},
   "outputs": [
    {
     "data": {
      "image/png": "[encoded data removed]",
      "text/plain": [
       "<Figure size 640x480 with 1 Axes>"
      ]
     },
     "metadata": {},
     "output_type": "display_data"
    }
   ],
   "source": [
    "import matplotlib.pyplot as plt\n",
    "import numpy as np\n",
    "###\n",
    "nuclei = {1: \"H\", 2: \"He\", 3: \"Li\", 4: \"Be\", 5: \"B\", 6: \"C\", 7: \"N\", 8: \"O\", 9: \"F\", 10: \"Ne\", \n",
    "          11: \"Na\", 12: \"Mg\", 13: \"Al\", 14: \"Si\", 15: \"P\", 16: \"S\", 17: \"Cl\", 18: \"Ar\", \n",
    "          19: \"K\", 20: \"Ca\", 21: \"Sc\", 22: \"Ti\", 23: \"V\", 24: \"Cr\", 25: \"Mn\", 26: \"Fe\", \n",
    "          27: \"Co\", 28: \"Ni\"}\n",
    "levels = [\"1s1/2\",\"1p3/2\",\"1p1/2\",\"1d5/2\",\"2s1/2\",\"1d3/2\"]\n",
    "###\n",
    "\n",
    "deg = np.array([2,4,2,6,2,4])\n",
    "ene = np.array([0,4,5,9,10,11])\n",
    "#\n",
    "n_occ = np.array([2,4,2,0,0,0])#Fill in with the occupation of these shells for neutrons\n",
    "p_occ = np.array([2,4,2,0,0,0])#Fill in with the occupation of these shells for protons\n",
    "mass = np.sum(n_occ)+np.sum(p_occ)\n",
    "Z = np.sum(p_occ)\n",
    "maxshell_pind  = np.where(p_occ != 0)[0][-1]\n",
    "maxshell_nind  = np.where(n_occ != 0)[0][-1]\n",
    "n_draw = []\n",
    "p_draw = []\n",
    "\n",
    "n_offset = -3\n",
    "p_offset = +4\n",
    "\n",
    "for shell, nshell in enumerate(deg):\n",
    "    for n in range(nshell):\n",
    "        if(n_occ[shell]!=0):\n",
    "            plt.scatter(n_offset-0.5*nshell+(n),ene[shell],color='blue')\n",
    "            n_occ[shell] -= 1\n",
    "        else:\n",
    "            plt.scatter(n_offset-0.5*nshell+(n),ene[shell],facecolors='none', edgecolors='blue')            \n",
    "for shell, pshell in enumerate(deg):\n",
    "    for p in range(pshell):\n",
    "        if(p_occ[shell]!=0):\n",
    "            plt.scatter(p_offset-0.5*pshell+(p),ene[shell],color='red')\n",
    "            p_occ[shell] -= 1\n",
    "        else:\n",
    "            plt.scatter(p_offset-0.5*pshell+(p),ene[shell],facecolors='none', edgecolors='red')\n",
    "\n",
    "###########\n",
    "maxshell = ene[np.max([maxshell_pind,maxshell_nind])]\n",
    "ymax = maxshell+3\n",
    "xmax = 7\n",
    "plt.vlines(0,-1,ymax,color='black')\n",
    "for ne, e in enumerate(ene):\n",
    "    plt.hlines(e,-xmax,xmax,color='green',linestyle='dashed')\n",
    "    if(e<ymax):\n",
    "        plt.text(-xmax,e-0.25,levels[ne],color='black')\n",
    "plt.xlim(-xmax,xmax)\n",
    "\n",
    "\n",
    "plt.ylim(-1,ymax)\n",
    "plt.xticks([])\n",
    "plt.yticks([])\n",
    "plt.text(-0.5*xmax-1, -0.75, 'Neutrons',color='blue')\n",
    "plt.text(.5*xmax-0.5, -0.75, 'Protons',color='red')\n",
    "name = str(mass)+nuclei[Z]+\".png\"\n",
    "plt.savefig(name)\n",
    "plt.show()"
   ]
  }
 ],
 "metadata": {
  "kernelspec": {
   "display_name": "Python 3 (ipykernel)",
   "language": "python",
   "name": "python3"
  },
  "language_info": {
   "codemirror_mode": {
    "name": "ipython",
    "version": 3
   },
   "file_extension": ".py",
   "mimetype": "text/x-python",
   "name": "python",
   "nbconvert_exporter": "python",
   "pygments_lexer": "ipython3",
   "version": "3.12.7"
  }
 },
 "nbformat": 4,
 "nbformat_minor": 5
}
